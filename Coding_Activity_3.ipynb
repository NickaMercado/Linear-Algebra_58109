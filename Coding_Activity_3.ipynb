{
  "nbformat": 4,
  "nbformat_minor": 0,
  "metadata": {
    "colab": {
      "name": "Coding Activity 3.ipynb",
      "provenance": [],
      "authorship_tag": "ABX9TyP222VQj4/8QAn05d+YpoVJ",
      "include_colab_link": true
    },
    "kernelspec": {
      "name": "python3",
      "display_name": "Python 3"
    },
    "language_info": {
      "name": "python"
    }
  },
  "cells": [
    {
      "cell_type": "markdown",
      "metadata": {
        "id": "view-in-github",
        "colab_type": "text"
      },
      "source": [
        "<a href=\"https://colab.research.google.com/github/Nickamaes/Linear-Algebra_58109/blob/main/Coding_Activity_3.ipynb\" target=\"_parent\"><img src=\"https://colab.research.google.com/assets/colab-badge.svg\" alt=\"Open In Colab\"/></a>"
      ]
    },
    {
      "cell_type": "markdown",
      "metadata": {
        "id": "eTfN3p7nQfO2"
      },
      "source": [
        "###Create a NumPy program that solves for the unknown variables of linear systems:"
      ]
    },
    {
      "cell_type": "code",
      "metadata": {
        "colab": {
          "base_uri": "https://localhost:8080/"
        },
        "id": "IfnIh4dOQef_",
        "outputId": "f87b474e-a2d1-4d7d-bd2b-7a43a97bf729"
      },
      "source": [
        "import numpy as np #Matrix operator \n",
        "A = np.array([[4,10,8],[10,26,26],[8,26,61]]) #Creation of matrix A\n",
        "print(A)\n",
        "print ('\\n')\n",
        "Inv_A = np.linalg.inv(A) #To inverse the inputs of matrix A\n",
        "print(Inv_A) #Prints Inv_A\n",
        "print ('\\n')\n",
        "B = np.array([[44],[128],[214]]) #Creation of matrix B\n",
        "print(B)\n",
        "print ('\\n')\n",
        "X = np.dot(Inv_A,B) #To get the dot product of the inverse of A and Matrix B \n",
        "print(X)"
      ],
      "execution_count": 1,
      "outputs": [
        {
          "output_type": "stream",
          "name": "stdout",
          "text": [
            "[[ 4 10  8]\n",
            " [10 26 26]\n",
            " [ 8 26 61]]\n",
            "\n",
            "\n",
            "[[ 25.27777778 -11.16666667   1.44444444]\n",
            " [-11.16666667   5.          -0.66666667]\n",
            " [  1.44444444  -0.66666667   0.11111111]]\n",
            "\n",
            "\n",
            "[[ 44]\n",
            " [128]\n",
            " [214]]\n",
            "\n",
            "\n",
            "[[-8.]\n",
            " [ 6.]\n",
            " [ 2.]]\n"
          ]
        }
      ]
    }
  ]
}
{
  "nbformat": 4,
  "nbformat_minor": 0,
  "metadata": {
    "colab": {
      "name": "Midterm Exam.ipynb",
      "provenance": [],
      "authorship_tag": "ABX9TyOQhZ2CUCV0OIgzv1M4Nb0E",
      "include_colab_link": true
    },
    "kernelspec": {
      "name": "python3",
      "display_name": "Python 3"
    },
    "language_info": {
      "name": "python"
    }
  },
  "cells": [
    {
      "cell_type": "markdown",
      "metadata": {
        "id": "view-in-github",
        "colab_type": "text"
      },
      "source": [
        "<a href=\"https://colab.research.google.com/github/Nickamaes/Linear-Algebra_58109/blob/main/Midterm_Exam.ipynb\" target=\"_parent\"><img src=\"https://colab.research.google.com/assets/colab-badge.svg\" alt=\"Open In Colab\"/></a>"
      ]
    },
    {
      "cell_type": "markdown",
      "metadata": {
        "id": "mCT_wIVA5JdE"
      },
      "source": [
        "###Question 1. Create a Python code that displays a square matrix whose length is 5. "
      ]
    },
    {
      "cell_type": "code",
      "metadata": {
        "colab": {
          "base_uri": "https://localhost:8080/"
        },
        "id": "zNgrR7wD5CMf",
        "outputId": "e900ac95-8377-4dc1-8769-b2bb6569f59c"
      },
      "source": [
        "import numpy as np #Matrix operator\n",
        "square_matrix = np.identity(5) #Creation of a 5x5 matrix since a square matrix must have equal lenght(columns) and width(rows). \n",
        "print(f'Square Matrix whose length is 5: \\n{square_matrix}') #Displays the final output"
      ],
      "execution_count": 19,
      "outputs": [
        {
          "output_type": "stream",
          "name": "stdout",
          "text": [
            "Square Matrix whose length is 5: \n",
            "[[1. 0. 0. 0. 0.]\n",
            " [0. 1. 0. 0. 0.]\n",
            " [0. 0. 1. 0. 0.]\n",
            " [0. 0. 0. 1. 0.]\n",
            " [0. 0. 0. 0. 1.]]\n"
          ]
        }
      ]
    },
    {
      "cell_type": "markdown",
      "metadata": {
        "id": "8e4MRb4m5N1R"
      },
      "source": [
        "###Question 2. Create a Python code that displays a square matrix whose elements below the principal diagonal are zero.\n"
      ]
    },
    {
      "cell_type": "code",
      "metadata": {
        "colab": {
          "base_uri": "https://localhost:8080/"
        },
        "id": "fKtsV2Iq5SJB",
        "outputId": "57094432-ece5-4c38-a3c5-e7ce492bac0f"
      },
      "source": [
        "square_matrix = np.array([[1,2,3,4],[0,2,4,6],[0,0,3,6],[0,0,0,4]]) #Creation of a 4x4 matrix named as square matrix\n",
        "print('A square matrix whose elements below the principal diagonal are zero: ') #Text message indicating the result\n",
        "print(square_matrix) #Displays the final output"
      ],
      "execution_count": 25,
      "outputs": [
        {
          "output_type": "stream",
          "name": "stdout",
          "text": [
            "A square matrix whose elements below the principal diagonal are zero: \n",
            "[[1 2 3 4]\n",
            " [0 2 4 6]\n",
            " [0 0 3 6]\n",
            " [0 0 0 4]]\n"
          ]
        }
      ]
    },
    {
      "cell_type": "markdown",
      "metadata": {
        "id": "bn-XoIcG5RiB"
      },
      "source": [
        "###Question 3. Create a Python code that displays a square matrix which is symmetrical."
      ]
    },
    {
      "cell_type": "code",
      "metadata": {
        "colab": {
          "base_uri": "https://localhost:8080/"
        },
        "id": "jmJNUeCb51UE",
        "outputId": "d062ebd0-c3ee-413b-baa1-41469a88a5ed"
      },
      "source": [
        "square_matrix = np.array([[1,2,3,4,5],[2,1,2,3,4],[3,2,1,2,3],[4,3,2,1,2],[5,4,3,2,1]]) #Creation of a 5x5 matrix named as square matrix\n",
        "print('A square matrix which is symmetrical: ') #Text message indicating the result\n",
        "print(square_matrix) #Displays the final output"
      ],
      "execution_count": 26,
      "outputs": [
        {
          "output_type": "stream",
          "name": "stdout",
          "text": [
            "A square matrix which is symmetrical: \n",
            "[[1 2 3 4 5]\n",
            " [2 1 2 3 4]\n",
            " [3 2 1 2 3]\n",
            " [4 3 2 1 2]\n",
            " [5 4 3 2 1]]\n"
          ]
        }
      ]
    },
    {
      "cell_type": "markdown",
      "metadata": {
        "id": "ThYGDJUY6M9F"
      },
      "source": [
        "###Question 4. What is the inverse of matrix C? Show your solution by python coding."
      ]
    },
    {
      "cell_type": "code",
      "metadata": {
        "colab": {
          "base_uri": "https://localhost:8080/"
        },
        "id": "57LnRla06QSj",
        "outputId": "8da6a8b3-1015-4564-98de-cbcb20a2b656"
      },
      "source": [
        "C = np.array([[1,2,3],[2,3,4],[3,3,-2]]) #Creation of a 3x3 matrix named C\n",
        "print(C) #Prints matrix C\n",
        "print() #Gives spaces in between the two matrices.\n",
        "Inv_C = np.linalg.inv(C) #Inverses the inputs of matrix C\n",
        "print(Inv_C) #Prints the Inv_C"
      ],
      "execution_count": 2,
      "outputs": [
        {
          "output_type": "stream",
          "name": "stdout",
          "text": [
            "[[ 1  2  3]\n",
            " [ 2  3  4]\n",
            " [ 3  3 -2]]\n",
            "\n",
            "[[-3.6  2.6 -0.2]\n",
            " [ 3.2 -2.2  0.4]\n",
            " [-0.6  0.6 -0.2]]\n"
          ]
        }
      ]
    },
    {
      "cell_type": "markdown",
      "metadata": {
        "id": "RPUzna9R6Sct"
      },
      "source": [
        "###Question 5. What is the determinant of the given matrix in Question 4? Show your solution by python coding. "
      ]
    },
    {
      "cell_type": "code",
      "metadata": {
        "colab": {
          "base_uri": "https://localhost:8080/"
        },
        "id": "QoZwD8v96USk",
        "outputId": "ec1aa034-238e-43fa-9fb9-fbe43f9f5964"
      },
      "source": [
        "C = np.array ([[1,2,3], [2,3,3],[3,4,-2]]) #Creation of a 3x3 matrix named C\n",
        "detOfC = np.linalg.det(C) #Gives the determinant of matrix C\n",
        "print(\"The determinant of the given matrix in Question 4 is:\") #Text message indicating the result\n",
        "print(int(detOfC)) #Displays the final output"
      ],
      "execution_count": 8,
      "outputs": [
        {
          "output_type": "stream",
          "name": "stdout",
          "text": [
            "The determinant of the given matrix in Question 4 is:\n",
            "5\n"
          ]
        }
      ]
    },
    {
      "cell_type": "markdown",
      "metadata": {
        "id": "Z5VC1iMu6UlU"
      },
      "source": [
        ""
      ]
    },
    {
      "cell_type": "markdown",
      "metadata": {
        "id": "3Xw4-VMY6WyD"
      },
      "source": [
        "###Question 6. Find the roots of the linear equations by showing its python codes "
      ]
    },
    {
      "cell_type": "code",
      "metadata": {
        "colab": {
          "base_uri": "https://localhost:8080/"
        },
        "id": "CLT5BeCZ6Y67",
        "outputId": "8ee013e2-8f79-426f-cc1d-6fd33e55edc9"
      },
      "source": [
        "A = np.array([[5,4,1],[10,9,4], [10,13,15]]) #Creation of a 3x3 matrix named A, taht contains the equation. \n",
        "B = np.array([[[3.4],[8.8],[19.2]]]) #Creation of a 2x3 matrix named B, that contains the constants.\n",
        "roots = np.linalg.inv(A) @ B #To find the roots of the linear equation\n",
        "print(\"The roots of the given linear equations are:\") #Text message indicating the result\n",
        "print(roots) #Displays the final output"
      ],
      "execution_count": 6,
      "outputs": [
        {
          "output_type": "stream",
          "name": "stdout",
          "text": [
            "The roots of the given linear equations are:\n",
            "[[[0.2]\n",
            "  [0.4]\n",
            "  [0.8]]]\n"
          ]
        }
      ]
    }
  ]
}
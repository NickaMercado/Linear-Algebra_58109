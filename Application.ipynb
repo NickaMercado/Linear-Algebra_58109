{
  "nbformat": 4,
  "nbformat_minor": 0,
  "metadata": {
    "colab": {
      "name": "Application.ipynb",
      "provenance": [],
      "authorship_tag": "ABX9TyPGzmMAs7ESNQV8WYPh7+ej",
      "include_colab_link": true
    },
    "kernelspec": {
      "name": "python3",
      "display_name": "Python 3"
    },
    "language_info": {
      "name": "python"
    }
  },
  "cells": [
    {
      "cell_type": "markdown",
      "metadata": {
        "id": "view-in-github",
        "colab_type": "text"
      },
      "source": [
        "<a href=\"https://colab.research.google.com/github/Nickamaes/Linear-Algebra_58109/blob/main/Application.ipynb\" target=\"_parent\"><img src=\"https://colab.research.google.com/assets/colab-badge.svg\" alt=\"Open In Colab\"/></a>"
      ]
    },
    {
      "cell_type": "markdown",
      "metadata": {
        "id": "ahU2oCvhGWSO"
      },
      "source": [
        "###The price of one apple and one orange."
      ]
    },
    {
      "cell_type": "code",
      "metadata": {
        "colab": {
          "base_uri": "https://localhost:8080/"
        },
        "id": "p1xzsf-JGOUb",
        "outputId": "fcfaeeae-2648-416e-984e-0f14992eed0c"
      },
      "source": [
        "import numpy as np #Matrix Operator.\n",
        "from scipy.linalg import solve #Open Library\n",
        "A = np.array([[20,10],[17,22]]) #Creation of 2x2 matrix named as matrix A.\n",
        "B = np.array([[350],[500]]) #Creation of 2x2 matrix named as matrix B.\n",
        "print(A) #Display matrix A.\n",
        "print(B) #Displays matrix B.\n",
        "X = solve(A,B) #Solves for A and B\n",
        "print(X) #Displays the final output. \n",
        "#X = np.linalg.solve(A,B) #Direct way for solving functions.\n",
        "#print(X) #Displays the final output. "
      ],
      "execution_count": 14,
      "outputs": [
        {
          "output_type": "stream",
          "name": "stdout",
          "text": [
            "[[20 10]\n",
            " [17 22]]\n",
            "[[350]\n",
            " [500]]\n",
            "[[10.]\n",
            " [15.]]\n"
          ]
        }
      ]
    },
    {
      "cell_type": "code",
      "metadata": {
        "colab": {
          "base_uri": "https://localhost:8080/"
        },
        "id": "sPMlGUK2HN7Q",
        "outputId": "25f75f4b-9c01-46db-9966-9b313206f201"
      },
      "source": [
        "inv_A=np.linalg.inv(A) #To get the inverse of matrix A.\n",
        "print(inv_A) #Displays the inverse of matrix A.\n",
        "X = np.linalg.inv(A).dot(B) #Inverses matrix A then, getsthe dot product of inv_A and matrix B.\n",
        "print(X) #Displays the final output. "
      ],
      "execution_count": 3,
      "outputs": [
        {
          "output_type": "stream",
          "name": "stdout",
          "text": [
            "[[ 0.08148148 -0.03703704]\n",
            " [-0.06296296  0.07407407]]\n",
            "[[10.]\n",
            " [15.]]\n"
          ]
        }
      ]
    },
    {
      "cell_type": "code",
      "metadata": {
        "colab": {
          "base_uri": "https://localhost:8080/"
        },
        "id": "yisilbeZIJrh",
        "outputId": "20e0fa63-c5c3-4d18-d00b-574699fe0801"
      },
      "source": [
        "X = np.dot(inv_A,B) #Another way of inversing and getting the dot product of matrices. \n",
        "print(X) #Displays the final output."
      ],
      "execution_count": 4,
      "outputs": [
        {
          "output_type": "stream",
          "name": "stdout",
          "text": [
            "[[10.]\n",
            " [15.]]\n"
          ]
        }
      ]
    },
    {
      "cell_type": "markdown",
      "metadata": {
        "id": "MaOZdzNMLfeX"
      },
      "source": [
        "###Solving for three linear equation with unknown variables of x, y, and z. "
      ]
    },
    {
      "cell_type": "code",
      "metadata": {
        "id": "jmPESnWQJOQK"
      },
      "source": [
        "#4x+3y+2z=25\n",
        "#-2x+2y+3z=-10\n",
        "#3x-5y+2z=-4"
      ],
      "execution_count": null,
      "outputs": []
    },
    {
      "cell_type": "code",
      "metadata": {
        "colab": {
          "base_uri": "https://localhost:8080/"
        },
        "id": "FJM9HiVkMCTG",
        "outputId": "33309d2e-7910-49b1-b11f-392940e84d14"
      },
      "source": [
        "A = np.array([[4,3,2],[-2,2,3],[3,-5,2]]) #Creation of 3x3 matrix named as matrix A.\n",
        "print(A) #Display matrix A\n",
        "B = np.array([[25],[-10],[-4]]) #Creation of 3x3 matrix named as matrix B.\n",
        "print(B) #Display matrix B\n",
        "X = solve(A,B) #From the scipy library, that solve the function.\n",
        "print(X) #Displays the final output. "
      ],
      "execution_count": 19,
      "outputs": [
        {
          "output_type": "stream",
          "name": "stdout",
          "text": [
            "[[ 4  3  2]\n",
            " [-2  2  3]\n",
            " [ 3 -5  2]]\n",
            "[[ 25]\n",
            " [-10]\n",
            " [ -4]]\n",
            "[[ 5.]\n",
            " [ 3.]\n",
            " [-2.]]\n"
          ]
        }
      ]
    }
  ]
}
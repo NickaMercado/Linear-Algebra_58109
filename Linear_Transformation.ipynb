{
  "nbformat": 4,
  "nbformat_minor": 0,
  "metadata": {
    "colab": {
      "name": "Linear Transformation.ipynb",
      "provenance": [],
      "authorship_tag": "ABX9TyPOYFu8AEOWQMPhcf9Vw7It",
      "include_colab_link": true
    },
    "kernelspec": {
      "name": "python3",
      "display_name": "Python 3"
    },
    "language_info": {
      "name": "python"
    }
  },
  "cells": [
    {
      "cell_type": "markdown",
      "metadata": {
        "id": "view-in-github",
        "colab_type": "text"
      },
      "source": [
        "<a href=\"https://colab.research.google.com/github/Nickamaes/Linear-Algebra_58109/blob/main/Linear_Transformation.ipynb\" target=\"_parent\"><img src=\"https://colab.research.google.com/assets/colab-badge.svg\" alt=\"Open In Colab\"/></a>"
      ]
    },
    {
      "cell_type": "markdown",
      "metadata": {
        "id": "pMJRkMdRDZBI"
      },
      "source": [
        "###To find the inverse of matrix , the matrix is passed to the linalg.inv() of the NumPy module: "
      ]
    },
    {
      "cell_type": "code",
      "metadata": {
        "colab": {
          "base_uri": "https://localhost:8080/"
        },
        "id": "h7Ew7MuxAbOg",
        "outputId": "618679de-0f88-4c3e-c77d-cb78e29f199d"
      },
      "source": [
        "import numpy as np #Matrix operator \n",
        "A = np.array([[4,3],[-5,9]]) #Creation of matrix A\n",
        "print(A)\n",
        "Inv_A = np.linalg.inv(A) #To inverse the inputs of matrix A\n",
        "print(Inv_A) #Prints Inv_A"
      ],
      "execution_count": null,
      "outputs": [
        {
          "output_type": "stream",
          "name": "stdout",
          "text": [
            "[[ 4  3]\n",
            " [-5  9]]\n",
            "[[ 0.17647059 -0.05882353]\n",
            " [ 0.09803922  0.07843137]]\n"
          ]
        }
      ]
    },
    {
      "cell_type": "code",
      "metadata": {
        "colab": {
          "base_uri": "https://localhost:8080/"
        },
        "id": "BfcBjEHIFozJ",
        "outputId": "971c6c98-04b0-4791-845e-7a7ebe902705"
      },
      "source": [
        "B = np.array([[20],[26]]) #Creation of matrix B\n",
        "print(B)"
      ],
      "execution_count": null,
      "outputs": [
        {
          "output_type": "stream",
          "name": "stdout",
          "text": [
            "[[20]\n",
            " [26]]\n"
          ]
        }
      ]
    },
    {
      "cell_type": "code",
      "metadata": {
        "colab": {
          "base_uri": "https://localhost:8080/"
        },
        "id": "Rx0IZKF3GCwZ",
        "outputId": "c754c077-5ada-45bb-8df1-cf07f222c3e9"
      },
      "source": [
        "X = np.linalg.inv(A).dot(B) #To get the dot product of the inverse of A and Matrix B (1st Way)\n",
        "print(X)"
      ],
      "execution_count": null,
      "outputs": [
        {
          "output_type": "stream",
          "name": "stdout",
          "text": [
            "[[2.]\n",
            " [4.]]\n"
          ]
        }
      ]
    },
    {
      "cell_type": "code",
      "metadata": {
        "colab": {
          "base_uri": "https://localhost:8080/"
        },
        "id": "8mFCK1uKGgli",
        "outputId": "399f0d66-e825-4df9-d4d5-4a03c0ae1647"
      },
      "source": [
        "X = np.dot(Inv_A,B) #To get the dot product of the inverse of A and Matrix B (2nd Way)\n",
        "print(X)"
      ],
      "execution_count": null,
      "outputs": [
        {
          "output_type": "stream",
          "name": "stdout",
          "text": [
            "[[2.]\n",
            " [4.]]\n"
          ]
        }
      ]
    },
    {
      "cell_type": "code",
      "metadata": {
        "colab": {
          "base_uri": "https://localhost:8080/"
        },
        "id": "Bf4y0V0BOfQT",
        "outputId": "6429ffb6-45e5-460d-9c0f-64ed3b36c258"
      },
      "source": [
        "A = np.array([[20,10],[17,22]]) #Creation of matrix A\n",
        "print(A)\n",
        "Inv_A = np.linalg.inv(A) #To inverse the inputs of matrix A\n",
        "print(Inv_A) "
      ],
      "execution_count": null,
      "outputs": [
        {
          "output_type": "stream",
          "name": "stdout",
          "text": [
            "[[20 10]\n",
            " [17 22]]\n",
            "[[ 0.08148148 -0.03703704]\n",
            " [-0.06296296  0.07407407]]\n"
          ]
        }
      ]
    },
    {
      "cell_type": "code",
      "metadata": {
        "colab": {
          "base_uri": "https://localhost:8080/"
        },
        "id": "149wXD3kO2Us",
        "outputId": "b79d4c0d-6a7b-49c4-f062-0fd42ec88882"
      },
      "source": [
        "B = np.array([[350],[500]]) #Creation of matrix B\n",
        "print(B)\n"
      ],
      "execution_count": null,
      "outputs": [
        {
          "output_type": "stream",
          "name": "stdout",
          "text": [
            "[[350]\n",
            " [500]]\n"
          ]
        }
      ]
    },
    {
      "cell_type": "code",
      "metadata": {
        "colab": {
          "base_uri": "https://localhost:8080/"
        },
        "id": "vz7KEFAdPAPy",
        "outputId": "4c058a9d-e0d4-405a-faf5-9186dbf7b6a7"
      },
      "source": [
        "X = np.dot(Inv_A,B) #To get the dot product of the inverse of A and Matrix B \n",
        "print(X)"
      ],
      "execution_count": null,
      "outputs": [
        {
          "output_type": "stream",
          "name": "stdout",
          "text": [
            "[[10.]\n",
            " [15.]]\n"
          ]
        }
      ]
    },
    {
      "cell_type": "markdown",
      "metadata": {
        "id": "lxow7XJxPHoL"
      },
      "source": [
        "###To check if the answer is correct"
      ]
    },
    {
      "cell_type": "code",
      "metadata": {
        "colab": {
          "base_uri": "https://localhost:8080/"
        },
        "id": "xCJkK1KvPHJL",
        "outputId": "5dd0f694-9cb7-4bbe-d588-99f31ee51902"
      },
      "source": [
        "B = np.dot(A,X) #To check if the answer is correct\n",
        "print(B)"
      ],
      "execution_count": null,
      "outputs": [
        {
          "output_type": "stream",
          "name": "stdout",
          "text": [
            "[[350.]\n",
            " [500.]]\n"
          ]
        }
      ]
    },
    {
      "cell_type": "markdown",
      "metadata": {
        "id": "4WycNGLcHU06"
      },
      "source": [
        "###Let's now solve a system of three linear equations"
      ]
    },
    {
      "cell_type": "code",
      "metadata": {
        "colab": {
          "base_uri": "https://localhost:8080/"
        },
        "id": "2RCoDUgdLy3g",
        "outputId": "b9a8ed21-61ef-4f95-e438-eb2c6d7ab808"
      },
      "source": [
        "import numpy as np #Matrix operator \n",
        "A = np.array([[4,3,2],[-2,2,3],[3,-5,2]]) #Creation of matrix A\n",
        "print(A)\n",
        "print ('\\n')\n",
        "Inv_A = np.linalg.inv(A) #To inverse the inputs of matrix A\n",
        "print(Inv_A) #Prints Inv_A\n",
        "print ('\\n')\n",
        "B = np.array([[25],[-10],[-4]]) #Creation of matrix B\n",
        "print(B)\n",
        "print ('\\n')\n",
        "X = np.dot(Inv_A,B) #To get the dot product of the inverse of A and Matrix B \n",
        "print(X)"
      ],
      "execution_count": null,
      "outputs": [
        {
          "output_type": "stream",
          "name": "stdout",
          "text": [
            "[[ 4  3  2]\n",
            " [-2  2  3]\n",
            " [ 3 -5  2]]\n",
            "\n",
            "\n",
            "[[ 0.15447154 -0.1300813   0.04065041]\n",
            " [ 0.10569106  0.01626016 -0.1300813 ]\n",
            " [ 0.03252033  0.23577236  0.11382114]]\n",
            "\n",
            "\n",
            "[[ 25]\n",
            " [-10]\n",
            " [ -4]]\n",
            "\n",
            "\n",
            "[[ 5.]\n",
            " [ 3.]\n",
            " [-2.]]\n"
          ]
        }
      ]
    }
  ]
}
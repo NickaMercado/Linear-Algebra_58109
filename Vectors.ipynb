{
  "nbformat": 4,
  "nbformat_minor": 0,
  "metadata": {
    "colab": {
      "name": "Vectors.ipynb",
      "provenance": [],
      "authorship_tag": "ABX9TyNItpWu+3Eg3Gdz5is8bqjp",
      "include_colab_link": true
    },
    "kernelspec": {
      "name": "python3",
      "display_name": "Python 3"
    },
    "language_info": {
      "name": "python"
    }
  },
  "cells": [
    {
      "cell_type": "markdown",
      "metadata": {
        "id": "view-in-github",
        "colab_type": "text"
      },
      "source": [
        "<a href=\"https://colab.research.google.com/github/Nickamaes/Linear-Algebra_58109/blob/main/Vectors.ipynb\" target=\"_parent\"><img src=\"https://colab.research.google.com/assets/colab-badge.svg\" alt=\"Open In Colab\"/></a>"
      ]
    },
    {
      "cell_type": "markdown",
      "metadata": {
        "id": "z2mI3BxDinea"
      },
      "source": [
        "##Matrix Algebra "
      ]
    },
    {
      "cell_type": "code",
      "metadata": {
        "colab": {
          "base_uri": "https://localhost:8080/"
        },
        "id": "eBna1U3Mhf0c",
        "outputId": "0678ec1b-0b8c-4e9e-8ad2-b704afd97750"
      },
      "source": [
        "#numpy\n",
        "import numpy as np\n",
        "a = np.array([1,2,3]) #Example of a 1x3 matrix\n",
        "print (a)"
      ],
      "execution_count": 1,
      "outputs": [
        {
          "output_type": "stream",
          "name": "stdout",
          "text": [
            "[1 2 3]\n"
          ]
        }
      ]
    },
    {
      "cell_type": "code",
      "metadata": {
        "colab": {
          "base_uri": "https://localhost:8080/"
        },
        "id": "cBWcSnvZimWl",
        "outputId": "b8f194fd-28cf-42e1-ed05-85ae112a0ff0"
      },
      "source": [
        "b = np.array([[1,2,3],[4,5,6]])\n",
        "print(b)"
      ],
      "execution_count": 2,
      "outputs": [
        {
          "output_type": "stream",
          "name": "stdout",
          "text": [
            "[[1 2 3]\n",
            " [4 5 6]]\n"
          ]
        }
      ]
    },
    {
      "cell_type": "code",
      "metadata": {
        "colab": {
          "base_uri": "https://localhost:8080/"
        },
        "id": "WBomSlMpi7Wi",
        "outputId": "b427ad21-638b-41db-928c-4f0ed9092f61"
      },
      "source": [
        "c = np.array([[1,2,3],[4,5,6],[7,8,9]])\n",
        "print(c)\n",
        "print(c-c)"
      ],
      "execution_count": 3,
      "outputs": [
        {
          "output_type": "stream",
          "name": "stdout",
          "text": [
            "[[1 2 3]\n",
            " [4 5 6]\n",
            " [7 8 9]]\n",
            "[[0 0 0]\n",
            " [0 0 0]\n",
            " [0 0 0]]\n"
          ]
        }
      ]
    },
    {
      "cell_type": "code",
      "metadata": {
        "colab": {
          "base_uri": "https://localhost:8080/"
        },
        "id": "NV4-_w3IjFGa",
        "outputId": "f5a206ba-00e7-4ef4-a974-899e795dc811"
      },
      "source": [
        "d = np.diagonal([[1,2,3],[4,5,6],[7,8,9]])\n",
        "d1 = np.array([[1,2,3],[4,5,6],[7,8,9]])\n",
        "print(d1)\n",
        "print(d)"
      ],
      "execution_count": 4,
      "outputs": [
        {
          "output_type": "stream",
          "name": "stdout",
          "text": [
            "[[1 2 3]\n",
            " [4 5 6]\n",
            " [7 8 9]]\n",
            "[1 5 9]\n"
          ]
        }
      ]
    },
    {
      "cell_type": "code",
      "metadata": {
        "colab": {
          "base_uri": "https://localhost:8080/"
        },
        "id": "_d345er8jbrk",
        "outputId": "0db51629-bca5-4737-bb30-9ae8baacfb9a"
      },
      "source": [
        "e = np.full((3,3),7)\n",
        "print(e)\n",
        "print(e+e)"
      ],
      "execution_count": 7,
      "outputs": [
        {
          "output_type": "stream",
          "name": "stdout",
          "text": [
            "[[7 7 7]\n",
            " [7 7 7]\n",
            " [7 7 7]]\n",
            "[[14 14 14]\n",
            " [14 14 14]\n",
            " [14 14 14]]\n"
          ]
        }
      ]
    },
    {
      "cell_type": "code",
      "metadata": {
        "colab": {
          "base_uri": "https://localhost:8080/"
        },
        "id": "E_m_10l0joaC",
        "outputId": "d20e5d7c-f1b7-498d-9dad-2f9a38a304d0"
      },
      "source": [
        "f = np.eye(3)\n",
        "print(f)"
      ],
      "execution_count": 8,
      "outputs": [
        {
          "output_type": "stream",
          "name": "stdout",
          "text": [
            "[[1. 0. 0.]\n",
            " [0. 1. 0.]\n",
            " [0. 0. 1.]]\n"
          ]
        }
      ]
    },
    {
      "cell_type": "code",
      "metadata": {
        "colab": {
          "base_uri": "https://localhost:8080/"
        },
        "id": "JwpbnLCtjsnB",
        "outputId": "ee27c648-a84b-4492-817b-63a3da1627c1"
      },
      "source": [
        "g = np.zeros((6,6))\n",
        "print(g)"
      ],
      "execution_count": 9,
      "outputs": [
        {
          "output_type": "stream",
          "name": "stdout",
          "text": [
            "[[0. 0. 0. 0. 0. 0.]\n",
            " [0. 0. 0. 0. 0. 0.]\n",
            " [0. 0. 0. 0. 0. 0.]\n",
            " [0. 0. 0. 0. 0. 0.]\n",
            " [0. 0. 0. 0. 0. 0.]\n",
            " [0. 0. 0. 0. 0. 0.]]\n"
          ]
        }
      ]
    },
    {
      "cell_type": "code",
      "metadata": {
        "colab": {
          "base_uri": "https://localhost:8080/"
        },
        "id": "L33hLn2YjyiZ",
        "outputId": "6a51c18a-d7e3-473a-8fa3-167fd7f7ac6d"
      },
      "source": [
        "h = np.empty((0,10))\n",
        "print(h)"
      ],
      "execution_count": 10,
      "outputs": [
        {
          "output_type": "stream",
          "name": "stdout",
          "text": [
            "[]\n"
          ]
        }
      ]
    }
  ]
}
{
  "nbformat": 4,
  "nbformat_minor": 0,
  "metadata": {
    "colab": {
      "name": "Eigenvalue_and_Eigenvector.ipynb",
      "provenance": [],
      "authorship_tag": "ABX9TyMfnVYWvZHxaRM4YD9vplN5",
      "include_colab_link": true
    },
    "kernelspec": {
      "name": "python3",
      "display_name": "Python 3"
    },
    "language_info": {
      "name": "python"
    }
  },
  "cells": [
    {
      "cell_type": "markdown",
      "metadata": {
        "id": "view-in-github",
        "colab_type": "text"
      },
      "source": [
        "<a href=\"https://colab.research.google.com/github/Nickamaes/Linear-Algebra_58109/blob/main/Eigenvalue_and_Eigenvector.ipynb\" target=\"_parent\"><img src=\"https://colab.research.google.com/assets/colab-badge.svg\" alt=\"Open In Colab\"/></a>"
      ]
    },
    {
      "cell_type": "code",
      "execution_count": 1,
      "metadata": {
        "colab": {
          "base_uri": "https://localhost:8080/"
        },
        "id": "f2PHVvslcDfm",
        "outputId": "f8d33d3a-f392-4656-98c6-5065085ba2bc"
      },
      "outputs": [
        {
          "output_type": "stream",
          "name": "stdout",
          "text": [
            "[[-12   3]\n",
            " [  4   1]]\n",
            "[[-0.04166667  0.125     ]\n",
            " [ 0.16666667  0.5       ]]\n",
            "[[0]\n",
            " [0]]\n",
            "[[0.]\n",
            " [0.]]\n"
          ]
        }
      ],
      "source": [
        "import numpy as np #Import Library\n",
        "from numpy.linalg import eig\n",
        "\n",
        "A = np.array([[-12,3],[4,1]]) #Creation of a 2x2 matrix named A\n",
        "print(A) #Displays matrix A\n",
        "\n",
        "inv_A = np.linalg.inv(A) #Inverse the values of matrix A\n",
        "print(inv_A) #Displays the inverse of matrix A\n",
        "\n",
        "B = np.array([[0],[0]]) #Creation of a 2x2 matrix named B\n",
        "print(B) #Displays matrix B\n",
        "\n",
        "X = np.dot(inv_A,B) #Dot product of the inverse of matrix A and matrix B\n",
        "print(X) #Displays the dot product\n",
        "#X = solve(A,B)\n",
        "#print(X)"
      ]
    },
    {
      "cell_type": "markdown",
      "source": [
        "##Example 1\n"
      ],
      "metadata": {
        "id": "30h96HgScGcQ"
      }
    },
    {
      "cell_type": "code",
      "source": [
        "A = np.array([[-6,3],[4,5]]) #Creation of a 2x2 matrix named A\n",
        "print(A) #Displays matrix A\n",
        "\n",
        "w,v = np.linalg.eig(A)\n",
        "#Display the output\n",
        "print(\"The eigenvalue/s is/are:\",w)\n",
        "print(\"The right eigenvectors are:\",v)\n",
        "#x = v.round()\n",
        "#print(x)"
      ],
      "metadata": {
        "colab": {
          "base_uri": "https://localhost:8080/"
        },
        "id": "CohHJ3QpcFGJ",
        "outputId": "54f0fd2d-375f-4110-c6ba-94f780436102"
      },
      "execution_count": 2,
      "outputs": [
        {
          "output_type": "stream",
          "name": "stdout",
          "text": [
            "[[-6  3]\n",
            " [ 4  5]]\n",
            "The eigenvalue/s is/are: [-7.  6.]\n",
            "The right eigenvectors are: [[-0.9486833  -0.24253563]\n",
            " [ 0.31622777 -0.9701425 ]]\n"
          ]
        }
      ]
    },
    {
      "cell_type": "markdown",
      "source": [
        "##Example 2\n"
      ],
      "metadata": {
        "id": "kxVsC5GEcK6p"
      }
    },
    {
      "cell_type": "code",
      "source": [
        "A = np.array([[2,2,4],[1,3,5],[2,3,4]]) #Creation of a 3x3 matrix named A\n",
        "print(A) #Displays matrix A\n",
        "s,t = np.linalg.eig(A)\n",
        "print(s.round())\n",
        "print(t.round())\n",
        "#Compute eigenvalues and right eigenvectors of a square array\n",
        "c = np.dot(A,t.round()) #dot product of A and t\n",
        "print(c) #Displays the final output"
      ],
      "metadata": {
        "colab": {
          "base_uri": "https://localhost:8080/"
        },
        "id": "5Mkoyij0cVDh",
        "outputId": "bcc55512-0861-400c-921c-f5bfc62b3ea4"
      },
      "execution_count": 3,
      "outputs": [
        {
          "output_type": "stream",
          "name": "stdout",
          "text": [
            "[[2 2 4]\n",
            " [1 3 5]\n",
            " [2 3 4]]\n",
            "[ 9.  1. -1.]\n",
            "[[-1. -1. -0.]\n",
            " [-1.  1. -1.]\n",
            " [-1. -0.  1.]]\n",
            "[[-8.  0.  2.]\n",
            " [-9.  2.  2.]\n",
            " [-9.  1.  1.]]\n"
          ]
        }
      ]
    }
  ]
}
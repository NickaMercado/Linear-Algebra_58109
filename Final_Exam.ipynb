{
  "nbformat": 4,
  "nbformat_minor": 0,
  "metadata": {
    "colab": {
      "name": "Final Exam.ipynb",
      "provenance": [],
      "authorship_tag": "ABX9TyOmCHqdcl37CNn/Meb6WKd5",
      "include_colab_link": true
    },
    "kernelspec": {
      "name": "python3",
      "display_name": "Python 3"
    },
    "language_info": {
      "name": "python"
    }
  },
  "cells": [
    {
      "cell_type": "markdown",
      "metadata": {
        "id": "view-in-github",
        "colab_type": "text"
      },
      "source": [
        "<a href=\"https://colab.research.google.com/github/Nickamaes/Linear-Algebra_58109/blob/main/Final_Exam.ipynb\" target=\"_parent\"><img src=\"https://colab.research.google.com/assets/colab-badge.svg\" alt=\"Open In Colab\"/></a>"
      ]
    },
    {
      "cell_type": "markdown",
      "source": [
        "###Problem 1"
      ],
      "metadata": {
        "id": "NGZ7TYrJGvvh"
      }
    },
    {
      "cell_type": "code",
      "execution_count": 19,
      "metadata": {
        "colab": {
          "base_uri": "https://localhost:8080/"
        },
        "id": "zwiJQ149GOXF",
        "outputId": "e7061d02-7c55-4dd5-9c10-234b666ed6d9"
      },
      "outputs": [
        {
          "output_type": "stream",
          "name": "stdout",
          "text": [
            "[[13.]\n",
            " [57.]\n",
            " [19.]]\n"
          ]
        }
      ],
      "source": [
        "Eq1 = np.array([[1,1,1],[1,0,4],[0,0,5]]) #Creates a 3x3 matrix named Eq1\n",
        "Eq2 = np.array([[89],[89],[95]]) #Creates a 1x3 matrix named Eq2\n",
        "amt = np.linalg.inv(Eq1).dot(Eq2) #Solves for how much each student have\n",
        "print(amt) #Displays the final answer"
      ]
    },
    {
      "cell_type": "markdown",
      "source": [
        "###Problem 2"
      ],
      "metadata": {
        "id": "TQ4MyIQ8G1Fe"
      }
    },
    {
      "cell_type": "code",
      "source": [
        "import numpy as np #Matrix Operator\n",
        "C = np.array([[3,-1,1],[9,-3,3],[-12,4,-4]]) #Creates a 3x3 matrix named C\n",
        "print(C,\"\\n\") #Displays matrix C\n",
        "Inv_C = np.linalg.pinv(C) #Inverses the values of matrix C\n",
        "print(Inv_C,\"\\n\") #Displays the inverse values of matrix C\n",
        "B = np.array([[5],[15],[-20]]) #Creates a 1x3 matrix named B\n",
        "print(B,\"\\n\") #Displays matrix B\n",
        "X = np.dot(Inv_C, B) #Gets the dot product of Inv_C and matrix B\n",
        "print(X) #Displays final output"
      ],
      "metadata": {
        "colab": {
          "base_uri": "https://localhost:8080/"
        },
        "id": "GbbsIT6RG1js",
        "outputId": "3a67c705-ad4b-42cd-ffc1-d61cbe574750"
      },
      "execution_count": 21,
      "outputs": [
        {
          "output_type": "stream",
          "name": "stdout",
          "text": [
            "[[  3  -1   1]\n",
            " [  9  -3   3]\n",
            " [-12   4  -4]] \n",
            "\n",
            "[[ 0.01048951  0.03146853 -0.04195804]\n",
            " [-0.0034965  -0.01048951  0.01398601]\n",
            " [ 0.0034965   0.01048951 -0.01398601]] \n",
            "\n",
            "[[  5]\n",
            " [ 15]\n",
            " [-20]] \n",
            "\n",
            "[[ 1.36363636]\n",
            " [-0.45454545]\n",
            " [ 0.45454545]]\n"
          ]
        }
      ]
    },
    {
      "cell_type": "markdown",
      "source": [
        "###Problem 3\n",
        "\n",
        "\n"
      ],
      "metadata": {
        "id": "JJlEh0wTG1zk"
      }
    },
    {
      "cell_type": "code",
      "source": [
        "import numpy as np #Matrix Operator\n",
        "from numpy.linalg import eig\n",
        "A = np.array([[8,5,-6],[-12,-9,12],[-3,-3,5]]) #Creates a 3x3 matrix named A\n",
        "print(A,\"\\n\") #Displays matrix A\n",
        "w,v = np.linalg.eig(A) \n",
        "#Used to find the eigenvalues and eigenvectors of matrix A.\n",
        "print(\"The eigenvalue/s is/are:\\n\",w.round(),\"\\n\") #Displays the rounded eigenvalues\n",
        "print(\"The eigenvector/s is/are:\\n\",v.round()) #Displays the rounded eigenvectors"
      ],
      "metadata": {
        "colab": {
          "base_uri": "https://localhost:8080/"
        },
        "id": "wqTUgMfUG2D8",
        "outputId": "ceac6a75-84fb-476a-ddec-99b0deb1f116"
      },
      "execution_count": 16,
      "outputs": [
        {
          "output_type": "stream",
          "name": "stdout",
          "text": [
            "[[  8   5  -6]\n",
            " [-12  -9  12]\n",
            " [ -3  -3   5]] \n",
            "\n",
            "The eigenvalue/s is/are:\n",
            " [-1.  3.  2.] \n",
            "\n",
            "The eigenvector/s is/are:\n",
            " [[ 0. -1.  1.]\n",
            " [-1.  1.  0.]\n",
            " [-0. -0.  1.]]\n"
          ]
        }
      ]
    }
  ]
}
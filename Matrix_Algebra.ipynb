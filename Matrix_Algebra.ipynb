{
  "nbformat": 4,
  "nbformat_minor": 0,
  "metadata": {
    "colab": {
      "name": "Matrix Algebra.ipynb",
      "provenance": [],
      "authorship_tag": "ABX9TyPPSsl+ffYUAdokvpLDiafI",
      "include_colab_link": true
    },
    "kernelspec": {
      "name": "python3",
      "display_name": "Python 3"
    },
    "language_info": {
      "name": "python"
    }
  },
  "cells": [
    {
      "cell_type": "markdown",
      "metadata": {
        "id": "view-in-github",
        "colab_type": "text"
      },
      "source": [
        "<a href=\"https://colab.research.google.com/github/Nickamaes/Linear-Algebra_58109/blob/main/Matrix_Algebra.ipynb\" target=\"_parent\"><img src=\"https://colab.research.google.com/assets/colab-badge.svg\" alt=\"Open In Colab\"/></a>"
      ]
    },
    {
      "cell_type": "markdown",
      "metadata": {
        "id": "jCj1ZIyczczC"
      },
      "source": [
        "##Python Program to Inverse\n"
      ]
    },
    {
      "cell_type": "code",
      "metadata": {
        "colab": {
          "base_uri": "https://localhost:8080/"
        },
        "id": "zYODqzVDzgkI",
        "outputId": "656ee4a6-3ae4-48db-d8ac-6ccf22385d5d"
      },
      "source": [
        "import numpy as np #Matrix operator\n",
        "A=np.array([[1, 2],[4, 7]]) #To create a 2x2 matrix named as Matrix A. \n",
        "invA=(np.linalg.inv(A)) #To inverse Matrix A\n",
        "print(invA)"
      ],
      "execution_count": 8,
      "outputs": [
        {
          "output_type": "stream",
          "name": "stdout",
          "text": [
            "[[-7.  2.]\n",
            " [ 4. -1.]]\n"
          ]
        }
      ]
    },
    {
      "cell_type": "code",
      "metadata": {
        "colab": {
          "base_uri": "https://localhost:8080/"
        },
        "id": "DNl5iXY8yXYd",
        "outputId": "bd5206b5-4230-41b7-f6a0-2d97312aeef2"
      },
      "source": [
        "C=np.dot(A,invA) #To get the product of A and invA\n",
        "print(C)"
      ],
      "execution_count": 9,
      "outputs": [
        {
          "output_type": "stream",
          "name": "stdout",
          "text": [
            "[[1. 0.]\n",
            " [0. 1.]]\n"
          ]
        }
      ]
    },
    {
      "cell_type": "code",
      "metadata": {
        "colab": {
          "base_uri": "https://localhost:8080/"
        },
        "id": "sigOGfjO49pD",
        "outputId": "ef205fa9-3921-44e7-886a-37e5d946de41"
      },
      "source": [
        "##Python Program to Transpose a 3x3 Matrix A=([6, 1, 1],[4, -2, 5],[2, 8, 7])\n",
        "A=np.array([[6, 1, 1],[4, -2, 5],[2, 8, 7]]) #To create a 3x3 matrix named as Matrix A. \n",
        "print(A)\n",
        "B=np.transpose(A) #To transpose Matrix A\n",
        "print(B)"
      ],
      "execution_count": 13,
      "outputs": [
        {
          "output_type": "stream",
          "name": "stdout",
          "text": [
            "[[ 6  1  1]\n",
            " [ 4 -2  5]\n",
            " [ 2  8  7]]\n",
            "[[ 6  4  2]\n",
            " [ 1 -2  8]\n",
            " [ 1  5  7]]\n"
          ]
        }
      ]
    },
    {
      "cell_type": "code",
      "metadata": {
        "colab": {
          "base_uri": "https://localhost:8080/"
        },
        "id": "_qnsFegG4gSK",
        "outputId": "2a90b484-cdb5-47fb-82ae-8bc0bbb5c1ae"
      },
      "source": [
        "##Python Program to Inverse a 3x3 Matrix A=([6, 1, 1],[4, -2, 5],[2, 8, 7])\n",
        "A=np.array([[6, 1, 1],[4, -2, 5],[2, 8, 7]]) #To create a 3x3 matrix named as Matrix A. \n",
        "invA=(np.linalg.inv(A)) #To inverse Matrix A\n",
        "print(invA)"
      ],
      "execution_count": 14,
      "outputs": [
        {
          "output_type": "stream",
          "name": "stdout",
          "text": [
            "[[ 0.17647059 -0.00326797 -0.02287582]\n",
            " [ 0.05882353 -0.13071895  0.08496732]\n",
            " [-0.11764706  0.1503268   0.05228758]]\n"
          ]
        }
      ]
    },
    {
      "cell_type": "code",
      "metadata": {
        "colab": {
          "base_uri": "https://localhost:8080/"
        },
        "id": "wE1blKGs66hG",
        "outputId": "117921c1-6443-4cfa-d49d-5999bf608f43"
      },
      "source": [
        "productAB=np.dot(A, invA) #To get the product of A and invA\n",
        "print(productAB)"
      ],
      "execution_count": 18,
      "outputs": [
        {
          "output_type": "stream",
          "name": "stdout",
          "text": [
            "[[ 1.00000000e+00  0.00000000e+00  2.77555756e-17]\n",
            " [-1.38777878e-17  1.00000000e+00  1.38777878e-17]\n",
            " [-4.16333634e-17  1.38777878e-16  1.00000000e+00]]\n"
          ]
        }
      ]
    }
  ]
}
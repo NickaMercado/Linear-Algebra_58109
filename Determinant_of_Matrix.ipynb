{
  "nbformat": 4,
  "nbformat_minor": 0,
  "metadata": {
    "colab": {
      "name": "Determinant of Matrix.ipynb",
      "provenance": [],
      "authorship_tag": "ABX9TyMOVg8Cp8bVprFWCxyXIzB8",
      "include_colab_link": true
    },
    "kernelspec": {
      "name": "python3",
      "display_name": "Python 3"
    },
    "language_info": {
      "name": "python"
    }
  },
  "cells": [
    {
      "cell_type": "markdown",
      "metadata": {
        "id": "view-in-github",
        "colab_type": "text"
      },
      "source": [
        "<a href=\"https://colab.research.google.com/github/Nickamaes/Linear-Algebra_58109/blob/main/Determinant_of_Matrix.ipynb\" target=\"_parent\"><img src=\"https://colab.research.google.com/assets/colab-badge.svg\" alt=\"Open In Colab\"/></a>"
      ]
    },
    {
      "cell_type": "markdown",
      "metadata": {
        "id": "TYrSj8e8LNUa"
      },
      "source": [
        "##Write a Python code to show as its solution. Save it as \"Determinant of Matrix\" in your GitHub repository."
      ]
    },
    {
      "cell_type": "code",
      "metadata": {
        "colab": {
          "base_uri": "https://localhost:8080/"
        },
        "id": "HHF53M_DASt9",
        "outputId": "dcbff21a-b9f0-41e7-e779-8c8ea8b0d154"
      },
      "source": [
        "import numpy as np #Matrix Operator\n",
        "A = np.array([[1,2,-1],[4,6,-2],[-1,3,3]]) #To create a 3x3 matrix named as A\n",
        "print(A)\n",
        "print('\\nDeterminant of A:')\n",
        "print(round(np.linalg.det(A))) #Display the rounded off Determinang of A"
      ],
      "execution_count": 7,
      "outputs": [
        {
          "output_type": "stream",
          "name": "stdout",
          "text": [
            "[[ 1  2 -1]\n",
            " [ 4  6 -2]\n",
            " [-1  3  3]]\n",
            "\n",
            "Determinant of A:\n",
            "-14\n"
          ]
        }
      ]
    }
  ]
}
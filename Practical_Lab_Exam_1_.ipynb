{
  "nbformat": 4,
  "nbformat_minor": 0,
  "metadata": {
    "colab": {
      "name": "Practical Lab Exam 1..ipynb",
      "provenance": [],
      "authorship_tag": "ABX9TyMED6+d4tkDlHKG5cpHIfnn",
      "include_colab_link": true
    },
    "kernelspec": {
      "name": "python3",
      "display_name": "Python 3"
    },
    "language_info": {
      "name": "python"
    }
  },
  "cells": [
    {
      "cell_type": "markdown",
      "metadata": {
        "id": "view-in-github",
        "colab_type": "text"
      },
      "source": [
        "<a href=\"https://colab.research.google.com/github/Nickamaes/Linear-Algebra_58109/blob/main/Practical_Lab_Exam_1_.ipynb\" target=\"_parent\"><img src=\"https://colab.research.google.com/assets/colab-badge.svg\" alt=\"Open In Colab\"/></a>"
      ]
    },
    {
      "cell_type": "markdown",
      "metadata": {
        "id": "Muenn80pzLlK"
      },
      "source": [
        "###Problem 1"
      ]
    },
    {
      "cell_type": "code",
      "metadata": {
        "colab": {
          "base_uri": "https://localhost:8080/"
        },
        "id": "y-TOkU_8y5nn",
        "outputId": "4da9f670-680d-44ad-dbe9-c8ce5086bd37"
      },
      "source": [
        "import numpy as np\n",
        "A = np.array([[1,2,3],[4,5,6]])\n",
        "B = np.array([[1,2],[3,4],[5,6]]) \n",
        "C = np.array([[1,2,3],[4,5,6],[7,8,9]])\n",
        "D = np.array([[1,2],[3,4]]) \n",
        "\n",
        "a = np.dot(A,B)\n",
        "b = np.add(D,D)\n",
        "c = 2*C\n",
        "\n",
        "print(\"A. AB\")\n",
        "print(a)\n",
        "print(\"\\nB. D+D\")\n",
        "print(b)\n",
        "print(\"\\nC. 2*C\")\n",
        "print(c)"
      ],
      "execution_count": 11,
      "outputs": [
        {
          "output_type": "stream",
          "name": "stdout",
          "text": [
            "A. AB\n",
            "[[22 28]\n",
            " [49 64]]\n",
            "\n",
            "B. D+D\n",
            "[[2 4]\n",
            " [6 8]]\n",
            "\n",
            "C. 2*C\n",
            "[[ 2  4  6]\n",
            " [ 8 10 12]\n",
            " [14 16 18]]\n"
          ]
        }
      ]
    },
    {
      "cell_type": "markdown",
      "metadata": {
        "id": "gmx01N6Dz-2y"
      },
      "source": [
        "###Problem 2"
      ]
    },
    {
      "cell_type": "code",
      "metadata": {
        "colab": {
          "base_uri": "https://localhost:8080/"
        },
        "id": "FQxx9oGNzKdl",
        "outputId": "df387a70-5035-4d97-d128-fee1ec8a56b6"
      },
      "source": [
        "import numpy as np\n",
        "X = np.array([5,3,-1])\n",
        "\n",
        "print(X)\n",
        "print('\\ntype of array', type(X))\n",
        "print('size of array : ', X.size)\n",
        "print('shape of array: ', X.shape)\n",
        "print('dimension of array:', X.ndim)"
      ],
      "execution_count": 10,
      "outputs": [
        {
          "output_type": "stream",
          "name": "stdout",
          "text": [
            "[ 5  3 -1]\n",
            "\n",
            "type of array <class 'numpy.ndarray'>\n",
            "size of array :  3\n",
            "shape of array:  (3,)\n",
            "dimension of array: 1\n"
          ]
        }
      ]
    }
  ]
}